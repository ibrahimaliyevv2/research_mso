{
  "cells": [
    {
      "cell_type": "code",
      "execution_count": null,
      "metadata": {
        "id": "_0HmWZFJPf7N"
      },
      "outputs": [],
      "source": [
        "!apt-get update;\n",
        "!wget https://developer.nvidia.com/compute/cuda/10.0/Prod/local_installers/cuda-repo-ubuntu1604-10-0-local-10.0.130-410.48_1.0-1_amd64 -O cuda-repo-ubuntu1604-10-0-local-10.0.130-410.48_1.0-1_amd64.deb\n",
        "!dpkg -i cuda-repo-ubuntu1604-10-0-local-10.0.130-410.48_1.0-1_amd64.deb\n",
        "!apt-key add /var/cuda-repo-10-0-local/7fa2af80.pub\n",
        "!apt-get update\n",
        "!apt-get -y install gcc-7 g++-7\n",
        "!apt-get -y install cuda"
      ]
    },
    {
      "cell_type": "code",
      "execution_count": 5,
      "metadata": {
        "id": "ykZClgDuW5-H",
        "colab": {
          "base_uri": "https://localhost:8080/"
        },
        "outputId": "0695073d-726a-4bfd-a751-1010857d2fad"
      },
      "outputs": [
        {
          "output_type": "stream",
          "name": "stdout",
          "text": [
            "PPA publishes dbgsym, you may need to include 'main/debug' component\n",
            "Repository: 'deb https://ppa.launchpadcontent.net/graphics-drivers/ppa/ubuntu/ jammy main'\n",
            "Description:\n",
            "Fresh drivers from upstream, currently shipping Nvidia.\n",
            "\n",
            "## Current releases\n",
            "\n",
            "Current production branch release: 535.129.03\n",
            "Current new feature branch release: 545.29.02\n",
            "Current beta release: 545.23.06\n",
            "\n",
            "## Legacy releases\n",
            "\n",
            "470.223.02 (x86_64) - GKxxx “Kepler” GPUs\n",
            "390.157 (x86 / x86_64 / ARM) - GF1xx “Fermi” GPUs (*​)\n",
            "340.108 (x86 / x86_64) - GeForce 8 and 9 series GPUs (*​)\n",
            "304.137 (x86 / x86_64) - GeForce 6 and 7 series GPUs (*​)\n",
            "173.14.39 (x86 / x86_64) - GeForce 5 series GPUs (*​)\n",
            "96.43.23 (x86 / x86_64) - GeForce 2 through GeForce 4 series GPUs (*​)\n",
            "71.86.15 (x86 / x86_64) - Riva TNT, TNT2, GeForce, and some GeForce 2 GPUs (*​)\n",
            "(*​) These releases are no longer being maintained. Please see Support timeframes for Unix legacy GPU releases for more details. https://nvidia.custhelp.com/app/answers/detail/a_id/3142\n",
            "\n",
            "## What we're working on right now:\n",
            "\n",
            "- Normal driver updates\n",
            "- Help Wanted: Mesa Updates for Intel/AMD users, ping us if you want to help do this work, we're shorthanded.\n",
            "\n",
            "## WARNINGS:\n",
            "\n",
            "This PPA is currently in testing, you should be experienced with packaging before you dive in here:\n",
            "\n",
            "Volunteers welcome!\n",
            "\n",
            "### How you can help:\n",
            "\n",
            "## Install PTS and benchmark your gear:\n",
            "\n",
            "    sudo apt-get install phoronix-test-suite\n",
            "\n",
            "Run the benchmark:\n",
            "\n",
            "    phoronix-test-suite default-benchmark openarena xonotic tesseract gputest unigine-valley\n",
            "\n",
            "and then say yes when it asks you to submit your results to openbechmarking.org. Then grab a cup of coffee, it takes a bit for the benchmarks to run. Depending on the version of Ubuntu you're using it might preferable for you to grabs PTS from upstream directly: http://www.phoronix-test-suite.com/?k=downloads\n",
            "\n",
            "## Share your results with the community:\n",
            "\n",
            "Post a link to your results (or any other feedback to): https://launchpad.net/~graphics-drivers-testers\n",
            "\n",
            "Remember to rerun and resubmit the benchmarks after driver upgrades, this will allow us to gather a bunch of data on performance that we can share with everybody.\n",
            "\n",
            "If you run into old documentation referring to other PPAs, you can help us by consolidating references to this PPA.\n",
            "\n",
            "If someone wants to go ahead and start prototyping on `software-properties-gtk` on what the GUI should look like, please start hacking!\n",
            "\n",
            "## Help us Help You!\n",
            "\n",
            "We use the donation funds to get the developers hardware to test and upload these drivers, please consider donating to the \"community\" slider on the donation page if you're loving this PPA:\n",
            "\n",
            "http://www.ubuntu.com/download/desktop/contribute\n",
            "More info: https://launchpad.net/~graphics-drivers/+archive/ubuntu/ppa\n",
            "Adding repository.\n",
            "Press [ENTER] to continue or Ctrl-c to cancel.Aborted.\n",
            "^C\n",
            "Get:1 file:/var/cuda-repo-10-0-local-10.0.130-410.48  InRelease\n",
            "Ign:1 file:/var/cuda-repo-10-0-local-10.0.130-410.48  InRelease\n",
            "Get:2 file:/var/cuda-repo-10-0-local-10.0.130-410.48  Release [574 B]\n",
            "Get:2 file:/var/cuda-repo-10-0-local-10.0.130-410.48  Release [574 B]\n",
            "Get:3 file:/var/cuda-repo-10-0-local-10.0.130-410.48  Release.gpg [819 B]\n",
            "Get:3 file:/var/cuda-repo-10-0-local-10.0.130-410.48  Release.gpg [819 B]\n",
            "Hit:4 https://developer.download.nvidia.com/compute/cuda/repos/ubuntu2204/x86_64  InRelease\n",
            "Hit:5 https://cloud.r-project.org/bin/linux/ubuntu jammy-cran40/ InRelease\n",
            "Ign:3 file:/var/cuda-repo-10-0-local-10.0.130-410.48  Release.gpg\n",
            "Hit:6 http://archive.ubuntu.com/ubuntu jammy InRelease\n",
            "Hit:7 http://security.ubuntu.com/ubuntu jammy-security InRelease\n",
            "Hit:8 http://archive.ubuntu.com/ubuntu jammy-updates InRelease\n",
            "Hit:9 http://archive.ubuntu.com/ubuntu jammy-backports InRelease\n",
            "Hit:10 https://ppa.launchpadcontent.net/c2d4u.team/c2d4u4.0+/ubuntu jammy InRelease\n",
            "Hit:11 https://ppa.launchpadcontent.net/deadsnakes/ppa/ubuntu jammy InRelease\n",
            "Hit:12 https://ppa.launchpadcontent.net/graphics-drivers/ppa/ubuntu jammy InRelease\n",
            "Hit:13 https://ppa.launchpadcontent.net/ubuntugis/ppa/ubuntu jammy InRelease\n",
            "Reading package lists... Done\n",
            "\u001b[1;33mW: \u001b[0mGPG error: file:/var/cuda-repo-10-0-local-10.0.130-410.48  Release: The following signatures couldn't be verified because the public key is not available: NO_PUBKEY F60F4B3D7FA2AF80\u001b[0m\n",
            "\u001b[1;31mE: \u001b[0mThe repository 'file:/var/cuda-repo-10-0-local-10.0.130-410.48  Release' is not signed.\u001b[0m\n",
            "\u001b[33mN: \u001b[0mUpdating from such a repository can't be done securely, and is therefore disabled by default.\u001b[0m\n",
            "\u001b[33mN: \u001b[0mSee apt-secure(8) manpage for repository creation and user configuration details.\u001b[0m\n",
            "Reading package lists... Done\n",
            "Building dependency tree... Done\n",
            "Reading state information... Done\n",
            "Package nvidia-390 is not available, but is referred to by another package.\n",
            "This may mean that the package is missing, has been obsoleted, or\n",
            "is only available from another source\n",
            "However the following packages replace it:\n",
            "  libnvidia-gl-390 nvidia-kernel-source-545-open nvidia-kernel-source-545\n",
            "  nvidia-kernel-source-525-open nvidia-kernel-source-525 nvidia-kernel-source-470\n",
            "  nvidia-headless-no-dkms-545-open nvidia-headless-no-dkms-545 nvidia-headless-no-dkms-525-open\n",
            "  nvidia-headless-no-dkms-525 nvidia-headless-no-dkms-470 libnvidia-gl-545 libnvidia-gl-525\n",
            "  libnvidia-gl-470 nvidia-kernel-source-535 nvidia-kernel-open-535 nvidia-kernel-open-525\n",
            "  nvidia-headless-no-dkms-535 libnvidia-gl-535:i386 libnvidia-gl-535 libnvidia-gl-525:i386\n",
            "  nvidia-kernel-open-545 libnvidia-gl-545:i386 nvidia-kernel-source-515 nvidia-kernel-open-515\n",
            "  nvidia-headless-no-dkms-515 libnvidia-gl-515:i386 libnvidia-gl-515 nvidia-kernel-source-530\n",
            "  nvidia-kernel-open-530 nvidia-headless-no-dkms-530 libnvidia-gl-530:i386 libnvidia-gl-530\n",
            "  nvidia-kernel-source-520 nvidia-kernel-open-520 nvidia-headless-no-dkms-520 libnvidia-gl-520:i386\n",
            "  libnvidia-gl-520 nvidia-kernel-source-535-server-open nvidia-kernel-source-535-server\n",
            "  nvidia-kernel-source-535-open nvidia-kernel-source-525-server nvidia-kernel-source-470-server\n",
            "  nvidia-kernel-source-450-server nvidia-kernel-source-418-server nvidia-kernel-source-390\n",
            "  nvidia-headless-no-dkms-535-server-open nvidia-headless-no-dkms-535-server\n",
            "  nvidia-headless-no-dkms-535-open nvidia-headless-no-dkms-525-server\n",
            "  nvidia-headless-no-dkms-470-server nvidia-headless-no-dkms-450-server\n",
            "  nvidia-headless-no-dkms-418-server nvidia-headless-no-dkms-390 libnvidia-gl-535-server\n",
            "  libnvidia-gl-525-server libnvidia-gl-470-server libnvidia-gl-450-server libnvidia-gl-418-server\n",
            "  nvidia-kernel-source-510-server nvidia-kernel-source-510 nvidia-headless-no-dkms-510-server\n",
            "  nvidia-headless-no-dkms-510 libnvidia-gl-510-server libnvidia-gl-510\n",
            "\n",
            "\u001b[1;31mE: \u001b[0mPackage 'nvidia-390' has no installation candidate\u001b[0m\n",
            "\u001b[1;31mE: \u001b[0mUnable to locate package nvidia-390-dev\u001b[0m\n",
            "Reading package lists... Done\n",
            "Building dependency tree... Done\n",
            "Reading state information... Done\n",
            "build-essential is already the newest version (12.9ubuntu3).\n",
            "g++ is already the newest version (4:11.2.0-1ubuntu1).\n",
            "g++ set to manually installed.\n",
            "libx11-dev is already the newest version (2:1.7.5-1ubuntu0.3).\n",
            "libx11-dev set to manually installed.\n",
            "The following additional packages will be installed:\n",
            "  freeglut3 libegl-dev libgl-dev libgl1-mesa-dev libgles-dev libgles1 libglvnd-core-dev\n",
            "  libglvnd-dev libglx-dev libice-dev libopengl-dev libsm-dev libxfixes-dev libxmu-headers libxt-dev\n",
            "Suggested packages:\n",
            "  libice-doc libsm-doc libxt-doc\n",
            "The following NEW packages will be installed:\n",
            "  freeglut3 freeglut3-dev libegl-dev libgl-dev libgl1-mesa-dev libgles-dev libgles1 libglu1-mesa\n",
            "  libglu1-mesa-dev libglvnd-core-dev libglvnd-dev libglx-dev libice-dev libopengl-dev libsm-dev\n",
            "  libxfixes-dev libxi-dev libxmu-dev libxmu-headers libxt-dev\n",
            "0 upgraded, 20 newly installed, 0 to remove and 18 not upgraded.\n",
            "Need to get 1,576 kB of archives.\n",
            "After this operation, 8,068 kB of additional disk space will be used.\n",
            "Get:1 http://archive.ubuntu.com/ubuntu jammy/universe amd64 freeglut3 amd64 2.8.1-6 [74.0 kB]\n",
            "Get:2 http://archive.ubuntu.com/ubuntu jammy/main amd64 libglx-dev amd64 1.4.0-1 [14.1 kB]\n",
            "Get:3 http://archive.ubuntu.com/ubuntu jammy/main amd64 libgl-dev amd64 1.4.0-1 [101 kB]\n",
            "Get:4 http://archive.ubuntu.com/ubuntu jammy/main amd64 libglvnd-core-dev amd64 1.4.0-1 [12.7 kB]\n",
            "Get:5 http://archive.ubuntu.com/ubuntu jammy/main amd64 libegl-dev amd64 1.4.0-1 [18.0 kB]\n",
            "Get:6 http://archive.ubuntu.com/ubuntu jammy/main amd64 libgles1 amd64 1.4.0-1 [11.5 kB]\n",
            "Get:7 http://archive.ubuntu.com/ubuntu jammy/main amd64 libgles-dev amd64 1.4.0-1 [49.4 kB]\n",
            "Get:8 http://archive.ubuntu.com/ubuntu jammy/main amd64 libopengl-dev amd64 1.4.0-1 [3,400 B]\n",
            "Get:9 http://archive.ubuntu.com/ubuntu jammy/main amd64 libglvnd-dev amd64 1.4.0-1 [3,162 B]\n",
            "Get:10 http://archive.ubuntu.com/ubuntu jammy-updates/main amd64 libgl1-mesa-dev amd64 23.0.4-0ubuntu1~22.04.1 [6,510 B]\n",
            "Get:11 http://archive.ubuntu.com/ubuntu jammy/main amd64 libglu1-mesa amd64 9.0.2-1 [145 kB]\n",
            "Get:12 http://archive.ubuntu.com/ubuntu jammy/main amd64 libglu1-mesa-dev amd64 9.0.2-1 [231 kB]\n",
            "Get:13 http://archive.ubuntu.com/ubuntu jammy/main amd64 libice-dev amd64 2:1.0.10-1build2 [51.4 kB]\n",
            "Get:14 http://archive.ubuntu.com/ubuntu jammy/main amd64 libsm-dev amd64 2:1.2.3-1build2 [18.1 kB]\n",
            "Get:15 http://archive.ubuntu.com/ubuntu jammy/main amd64 libxt-dev amd64 1:1.2.1-1 [396 kB]\n",
            "Get:16 http://archive.ubuntu.com/ubuntu jammy/universe amd64 freeglut3-dev amd64 2.8.1-6 [126 kB]\n",
            "Get:17 http://archive.ubuntu.com/ubuntu jammy/main amd64 libxfixes-dev amd64 1:6.0.0-1 [12.2 kB]\n",
            "Get:18 http://archive.ubuntu.com/ubuntu jammy/main amd64 libxi-dev amd64 2:1.8-1build1 [193 kB]\n",
            "Get:19 http://archive.ubuntu.com/ubuntu jammy/main amd64 libxmu-headers all 2:1.1.3-3 [54.1 kB]\n",
            "Get:20 http://archive.ubuntu.com/ubuntu jammy/main amd64 libxmu-dev amd64 2:1.1.3-3 [54.6 kB]\n",
            "Fetched 1,576 kB in 1s (2,086 kB/s)\n",
            "Selecting previously unselected package freeglut3:amd64.\n",
            "(Reading database ... 129511 files and directories currently installed.)\n",
            "Preparing to unpack .../00-freeglut3_2.8.1-6_amd64.deb ...\n",
            "Unpacking freeglut3:amd64 (2.8.1-6) ...\n",
            "Selecting previously unselected package libglx-dev:amd64.\n",
            "Preparing to unpack .../01-libglx-dev_1.4.0-1_amd64.deb ...\n",
            "Unpacking libglx-dev:amd64 (1.4.0-1) ...\n",
            "Selecting previously unselected package libgl-dev:amd64.\n",
            "Preparing to unpack .../02-libgl-dev_1.4.0-1_amd64.deb ...\n",
            "Unpacking libgl-dev:amd64 (1.4.0-1) ...\n",
            "Selecting previously unselected package libglvnd-core-dev:amd64.\n",
            "Preparing to unpack .../03-libglvnd-core-dev_1.4.0-1_amd64.deb ...\n",
            "Unpacking libglvnd-core-dev:amd64 (1.4.0-1) ...\n",
            "Selecting previously unselected package libegl-dev:amd64.\n",
            "Preparing to unpack .../04-libegl-dev_1.4.0-1_amd64.deb ...\n",
            "Unpacking libegl-dev:amd64 (1.4.0-1) ...\n",
            "Selecting previously unselected package libgles1:amd64.\n",
            "Preparing to unpack .../05-libgles1_1.4.0-1_amd64.deb ...\n",
            "Unpacking libgles1:amd64 (1.4.0-1) ...\n",
            "Selecting previously unselected package libgles-dev:amd64.\n",
            "Preparing to unpack .../06-libgles-dev_1.4.0-1_amd64.deb ...\n",
            "Unpacking libgles-dev:amd64 (1.4.0-1) ...\n",
            "Selecting previously unselected package libopengl-dev:amd64.\n",
            "Preparing to unpack .../07-libopengl-dev_1.4.0-1_amd64.deb ...\n",
            "Unpacking libopengl-dev:amd64 (1.4.0-1) ...\n",
            "Selecting previously unselected package libglvnd-dev:amd64.\n",
            "Preparing to unpack .../08-libglvnd-dev_1.4.0-1_amd64.deb ...\n",
            "Unpacking libglvnd-dev:amd64 (1.4.0-1) ...\n",
            "Selecting previously unselected package libgl1-mesa-dev:amd64.\n",
            "Preparing to unpack .../09-libgl1-mesa-dev_23.0.4-0ubuntu1~22.04.1_amd64.deb ...\n",
            "Unpacking libgl1-mesa-dev:amd64 (23.0.4-0ubuntu1~22.04.1) ...\n",
            "Selecting previously unselected package libglu1-mesa:amd64.\n",
            "Preparing to unpack .../10-libglu1-mesa_9.0.2-1_amd64.deb ...\n",
            "Unpacking libglu1-mesa:amd64 (9.0.2-1) ...\n",
            "Selecting previously unselected package libglu1-mesa-dev:amd64.\n",
            "Preparing to unpack .../11-libglu1-mesa-dev_9.0.2-1_amd64.deb ...\n",
            "Unpacking libglu1-mesa-dev:amd64 (9.0.2-1) ...\n",
            "Selecting previously unselected package libice-dev:amd64.\n",
            "Preparing to unpack .../12-libice-dev_2%3a1.0.10-1build2_amd64.deb ...\n",
            "Unpacking libice-dev:amd64 (2:1.0.10-1build2) ...\n",
            "Selecting previously unselected package libsm-dev:amd64.\n",
            "Preparing to unpack .../13-libsm-dev_2%3a1.2.3-1build2_amd64.deb ...\n",
            "Unpacking libsm-dev:amd64 (2:1.2.3-1build2) ...\n",
            "Selecting previously unselected package libxt-dev:amd64.\n",
            "Preparing to unpack .../14-libxt-dev_1%3a1.2.1-1_amd64.deb ...\n",
            "Unpacking libxt-dev:amd64 (1:1.2.1-1) ...\n",
            "Selecting previously unselected package freeglut3-dev:amd64.\n",
            "Preparing to unpack .../15-freeglut3-dev_2.8.1-6_amd64.deb ...\n",
            "Unpacking freeglut3-dev:amd64 (2.8.1-6) ...\n",
            "Selecting previously unselected package libxfixes-dev:amd64.\n",
            "Preparing to unpack .../16-libxfixes-dev_1%3a6.0.0-1_amd64.deb ...\n",
            "Unpacking libxfixes-dev:amd64 (1:6.0.0-1) ...\n",
            "Selecting previously unselected package libxi-dev:amd64.\n",
            "Preparing to unpack .../17-libxi-dev_2%3a1.8-1build1_amd64.deb ...\n",
            "Unpacking libxi-dev:amd64 (2:1.8-1build1) ...\n",
            "Selecting previously unselected package libxmu-headers.\n",
            "Preparing to unpack .../18-libxmu-headers_2%3a1.1.3-3_all.deb ...\n",
            "Unpacking libxmu-headers (2:1.1.3-3) ...\n",
            "Selecting previously unselected package libxmu-dev:amd64.\n",
            "Preparing to unpack .../19-libxmu-dev_2%3a1.1.3-3_amd64.deb ...\n",
            "Unpacking libxmu-dev:amd64 (2:1.1.3-3) ...\n",
            "Setting up libxmu-headers (2:1.1.3-3) ...\n",
            "Setting up freeglut3:amd64 (2.8.1-6) ...\n",
            "Setting up libglvnd-core-dev:amd64 (1.4.0-1) ...\n",
            "Setting up libice-dev:amd64 (2:1.0.10-1build2) ...\n",
            "Setting up libsm-dev:amd64 (2:1.2.3-1build2) ...\n",
            "Setting up libxfixes-dev:amd64 (1:6.0.0-1) ...\n",
            "Setting up libxt-dev:amd64 (1:1.2.1-1) ...\n",
            "Setting up libgles1:amd64 (1.4.0-1) ...\n",
            "Setting up libglx-dev:amd64 (1.4.0-1) ...\n",
            "Setting up libglu1-mesa:amd64 (9.0.2-1) ...\n",
            "Setting up libopengl-dev:amd64 (1.4.0-1) ...\n",
            "Setting up libxi-dev:amd64 (2:1.8-1build1) ...\n",
            "Setting up libgl-dev:amd64 (1.4.0-1) ...\n",
            "Setting up libegl-dev:amd64 (1.4.0-1) ...\n",
            "Setting up libxmu-dev:amd64 (2:1.1.3-3) ...\n",
            "Setting up libglu1-mesa-dev:amd64 (9.0.2-1) ...\n",
            "Setting up libgles-dev:amd64 (1.4.0-1) ...\n",
            "Setting up libglvnd-dev:amd64 (1.4.0-1) ...\n",
            "Setting up libgl1-mesa-dev:amd64 (23.0.4-0ubuntu1~22.04.1) ...\n",
            "Setting up freeglut3-dev:amd64 (2.8.1-6) ...\n",
            "Processing triggers for man-db (2.10.2-1) ...\n",
            "Processing triggers for libc-bin (2.35-0ubuntu3.1) ...\n",
            "/sbin/ldconfig.real: /usr/local/lib/libtbbbind_2_5.so.3 is not a symbolic link\n",
            "\n",
            "/sbin/ldconfig.real: /usr/local/lib/libtbbmalloc_proxy.so.2 is not a symbolic link\n",
            "\n",
            "/sbin/ldconfig.real: /usr/local/lib/libtbbmalloc.so.2 is not a symbolic link\n",
            "\n",
            "/sbin/ldconfig.real: /usr/local/lib/libtbb.so.12 is not a symbolic link\n",
            "\n",
            "/sbin/ldconfig.real: /usr/local/lib/libtbbbind.so.3 is not a symbolic link\n",
            "\n",
            "/sbin/ldconfig.real: /usr/local/lib/libtbbbind_2_0.so.3 is not a symbolic link\n",
            "\n"
          ]
        }
      ],
      "source": [
        "! add-apt-repository ppa:graphics-drivers/ppa\n",
        "! apt update\n",
        "! apt install nvidia-390 nvidia-390-dev\n",
        "! apt-get install g++ freeglut3-dev build-essential libx11-dev libxmu-dev libxi-dev libglu1-mesa libglu1-mesa-dev"
      ]
    },
    {
      "cell_type": "code",
      "execution_count": 6,
      "metadata": {
        "colab": {
          "base_uri": "https://localhost:8080/"
        },
        "id": "7RnoEnEUPf8e",
        "outputId": "80550d4e-e831-4c6e-cd40-02ad7a37f636"
      },
      "outputs": [
        {
          "output_type": "stream",
          "name": "stdout",
          "text": [
            "nvcc: NVIDIA (R) Cuda compiler driver\n",
            "Copyright (c) 2005-2023 NVIDIA Corporation\n",
            "Built on Fri_Sep__8_19:17:24_PDT_2023\n",
            "Cuda compilation tools, release 12.3, V12.3.52\n",
            "Build cuda_12.3.r12.3/compiler.33281558_0\n"
          ]
        }
      ],
      "source": [
        "!nvcc --version"
      ]
    },
    {
      "cell_type": "code",
      "execution_count": 1,
      "metadata": {
        "id": "XlaZOlKrPgIi"
      },
      "outputs": [],
      "source": [
        "!export PATH=/usr/local/cuda/bin${PATH:+:${PATH}}\n",
        "!export LD_LIBRARY_PATH=/usr/local/cuda/lib64\\${LD_LIBRARY_PATH:+:${LD_LIBRARY_PATH}}"
      ]
    },
    {
      "cell_type": "code",
      "execution_count": 2,
      "metadata": {
        "colab": {
          "base_uri": "https://localhost:8080/"
        },
        "id": "qd-69K7cPgQ0",
        "outputId": "53dee6a9-081b-4ed6-be43-4d30e30e013a"
      },
      "outputs": [
        {
          "output_type": "stream",
          "name": "stdout",
          "text": [
            "Collecting git+https://github.com/andreinechaev/nvcc4jupyter.git\n",
            "  Cloning https://github.com/andreinechaev/nvcc4jupyter.git to /tmp/pip-req-build-tp2915os\n",
            "  Running command git clone --filter=blob:none --quiet https://github.com/andreinechaev/nvcc4jupyter.git /tmp/pip-req-build-tp2915os\n",
            "  Resolved https://github.com/andreinechaev/nvcc4jupyter.git to commit 0a71d56e5dce3ff1f0dd2c47c29367629262f527\n",
            "  Preparing metadata (setup.py) ... \u001b[?25l\u001b[?25hdone\n",
            "Building wheels for collected packages: NVCCPlugin\n",
            "  Building wheel for NVCCPlugin (setup.py) ... \u001b[?25l\u001b[?25hdone\n",
            "  Created wheel for NVCCPlugin: filename=NVCCPlugin-0.0.2-py3-none-any.whl size=4295 sha256=fcf5e329b695c5bddeb4023e5fd77556a2d42d4796ff93f63431f8a5e3ba3ae6\n",
            "  Stored in directory: /tmp/pip-ephem-wheel-cache-6fqfs5kl/wheels/a8/b9/18/23f8ef71ceb0f63297dd1903aedd067e6243a68ea756d6feea\n",
            "Successfully built NVCCPlugin\n",
            "Installing collected packages: NVCCPlugin\n",
            "Successfully installed NVCCPlugin-0.0.2\n"
          ]
        }
      ],
      "source": [
        "!pip install git+https://github.com/andreinechaev/nvcc4jupyter.git"
      ]
    },
    {
      "cell_type": "code",
      "execution_count": 3,
      "metadata": {
        "colab": {
          "base_uri": "https://localhost:8080/"
        },
        "id": "iZ2UAkOSPgeK",
        "outputId": "6e5d058e-c3ed-4e96-e9ad-d956faa05bf3"
      },
      "outputs": [
        {
          "output_type": "stream",
          "name": "stdout",
          "text": [
            "created output directory at /content/src\n",
            "Out bin /content/result.out\n"
          ]
        }
      ],
      "source": [
        "%load_ext nvcc_plugin"
      ]
    },
    {
      "cell_type": "code",
      "execution_count": 4,
      "metadata": {
        "colab": {
          "base_uri": "https://localhost:8080/"
        },
        "id": "1FRUa8PDQ64Y",
        "outputId": "07e75002-521b-4ff7-c46b-2e181682eb76"
      },
      "outputs": [
        {
          "output_type": "stream",
          "name": "stdout",
          "text": [
            "bin    cuda\tcuda-11.8  games\t       include\tlib64\t   man\t share\n",
            "colab  cuda-11\tetc\t   _gcs_config_ops.so  lib\tlicensing  sbin  src\n"
          ]
        }
      ],
      "source": [
        "!ls /usr/local"
      ]
    },
    {
      "cell_type": "code",
      "execution_count": null,
      "metadata": {
        "id": "6J4fUiV3RBly"
      },
      "outputs": [],
      "source": [
        "!nvcc -o programpso main.cpp kernel.cpp kernel.cu"
      ]
    },
    {
      "cell_type": "code",
      "execution_count": 13,
      "metadata": {
        "colab": {
          "base_uri": "https://localhost:8080/"
        },
        "id": "GhNyw4nPREDt",
        "outputId": "0536f256-6dd2-439e-942e-e86ac6cd160d"
      },
      "outputs": [
        {
          "output_type": "stream",
          "name": "stdout",
          "text": [
            "/bin/bash: line 1: ./programpso: No such file or directory\n"
          ]
        }
      ],
      "source": [
        "!./programpso"
      ]
    },
    {
      "cell_type": "code",
      "execution_count": 48,
      "metadata": {
        "colab": {
          "base_uri": "https://localhost:8080/"
        },
        "id": "A6f02YciMvEF",
        "outputId": "ab3c9432-5b2e-45f5-ed66-2af7439f9652"
      },
      "outputs": [
        {
          "output_type": "stream",
          "name": "stdout",
          "text": [
            "Execution 1\n",
            "Type \t Time \t  \t Minimum\n",
            "GPU \t      7.200 \t -198.999924\n",
            "Result of execution 1:\n",
            "Execution 2\n",
            "Type \t Time \t  \t Minimum\n",
            "GPU \t      7.948 \t -199.000000\n",
            "Result of execution 2:\n",
            "Execution 3\n",
            "Type \t Time \t  \t Minimum\n",
            "GPU \t      7.731 \t -198.999985\n",
            "Result of execution 3:\n",
            "Execution 4\n",
            "Type \t Time \t  \t Minimum\n",
            "GPU \t      7.176 \t -198.999695\n",
            "Result of execution 4:\n",
            "Execution 5\n",
            "Type \t Time \t  \t Minimum\n",
            "GPU \t      7.889 \t -198.999969\n",
            "Result of execution 5:\n",
            "Execution 6\n",
            "Type \t Time \t  \t Minimum\n",
            "GPU \t      7.077 \t -198.999847\n",
            "Result of execution 6:\n",
            "Execution 7\n",
            "Type \t Time \t  \t Minimum\n",
            "GPU \t      7.807 \t -198.999878\n",
            "Result of execution 7:\n",
            "Execution 8\n",
            "Type \t Time \t  \t Minimum\n",
            "GPU \t      7.615 \t -198.999893\n",
            "Result of execution 8:\n",
            "Execution 9\n",
            "Type \t Time \t  \t Minimum\n",
            "GPU \t      7.397 \t -198.999893\n",
            "Result of execution 9:\n",
            "Execution 10\n",
            "Type \t Time \t  \t Minimum\n",
            "GPU \t      7.844 \t -198.999756\n",
            "Result of execution 10:\n"
          ]
        }
      ],
      "source": [
        "!for i in {1..10}; do echo \"Execution $i\"; ./programpso; echo \"Result of execution $i:\"; done"
      ]
    },
    {
      "cell_type": "code",
      "source": [
        "!g++ -o kerneloutput ./kernel.cpp ./main.cpp"
      ],
      "metadata": {
        "id": "0nWshli2Z02t"
      },
      "execution_count": 27,
      "outputs": []
    },
    {
      "cell_type": "code",
      "source": [
        "! ./kerneloutput"
      ],
      "metadata": {
        "colab": {
          "base_uri": "https://localhost:8080/"
        },
        "id": "Dc-ZhMmYa_jH",
        "outputId": "8a623ea5-20ff-43d4-c535-20f97e823e1f"
      },
      "execution_count": 28,
      "outputs": [
        {
          "output_type": "stream",
          "name": "stdout",
          "text": [
            "Type \t Time \t  \t Minimum\n",
            "GPU \t      9.711 \t -198.999695\n"
          ]
        }
      ]
    },
    {
      "cell_type": "code",
      "execution_count": 31,
      "metadata": {
        "id": "gPY5T0_JV8Jh",
        "colab": {
          "base_uri": "https://localhost:8080/"
        },
        "outputId": "31f06bce-ed68-4878-a451-fcb8f966dee9"
      },
      "outputs": [
        {
          "output_type": "stream",
          "name": "stdout",
          "text": [
            "Execution 1\n",
            "Type \t Time \t  \t Minimum\n",
            "GPU \t      8.983 \t -198.999878\n",
            "Execution 2\n",
            "Type \t Time \t  \t Minimum\n",
            "GPU \t      9.116 \t -198.999893\n",
            "Execution 3\n",
            "Type \t Time \t  \t Minimum\n",
            "GPU \t      8.177 \t -198.999939\n",
            "Execution 4\n",
            "Type \t Time \t  \t Minimum\n",
            "GPU \t      8.961 \t -198.999908\n",
            "Execution 5\n",
            "Type \t Time \t  \t Minimum\n",
            "GPU \t      8.900 \t -198.999985\n",
            "Execution 6\n",
            "Type \t Time \t  \t Minimum\n",
            "GPU \t      8.220 \t -198.999908\n",
            "Execution 7\n",
            "Type \t Time \t  \t Minimum\n",
            "GPU \t      8.890 \t -198.999939\n",
            "Execution 8\n",
            "Type \t Time \t  \t Minimum\n",
            "GPU \t      8.953 \t -198.999619\n",
            "Execution 9\n",
            "Type \t Time \t  \t Minimum\n",
            "GPU \t      8.488 \t -198.999924\n",
            "Execution 10\n",
            "Type \t Time \t  \t Minimum\n",
            "GPU \t      8.617 \t -198.999832\n"
          ]
        }
      ],
      "source": [
        "!for i in {1..10}; do echo \"Execution $i\"; ! ./kerneloutput; done"
      ]
    },
    {
      "cell_type": "code",
      "source": [],
      "metadata": {
        "id": "SdA0RM50cQN_"
      },
      "execution_count": null,
      "outputs": []
    }
  ],
  "metadata": {
    "colab": {
      "provenance": []
    },
    "kernelspec": {
      "display_name": "Python 3",
      "name": "python3"
    },
    "language_info": {
      "name": "python"
    }
  },
  "nbformat": 4,
  "nbformat_minor": 0
}